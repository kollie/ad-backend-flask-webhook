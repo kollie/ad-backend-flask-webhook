{
 "cells": [
  {
   "cell_type": "markdown",
   "id": "b7240ebf",
   "metadata": {},
   "source": [
    "# 📌 Diet Recommendation Flask API\n",
    "This project is a **Flask-based API** that allows users to **register, log in, save diet data, train a machine learning model, and get diet recommendations** based on their data.\n",
    "The application is deployed on **PythonAnywhere**, with a **GitHub webhook** for automatic updates and database migrations."
   ]
  },
  {
   "cell_type": "markdown",
   "id": "44544721",
   "metadata": {},
   "source": [
    "## 🚀 Project Structure\n",
    "```\n",
    "ad-backend-flask-webhook/\n",
    "│── app/\n",
    "│   ├── resources/\n",
    "│   ├── schemas/\n",
    "│   ├── __init__.py\n",
    "│   ├── models.py\n",
    "│   ├── routes.py\n",
    "│── main.py\n",
    "│── README.md\n",
    "```"
   ]
  },
  {
   "cell_type": "markdown",
   "id": "109327d7",
   "metadata": {},
   "source": [
    "## 📂 1️⃣ Training Data\n",
    "The training data used for the model consists of **dietary preferences, user attributes, and recommended diets**.\n",
    "### **Dataset Structure (`diet_data.csv`)**:\n",
    "- `age` (int) - User's age\n",
    "- `gender` (string) - Male/Female\n",
    "- `height` (float) - User's height in cm\n",
    "- `weight` (float) - User's weight in kg\n",
    "- `activity_level` (string) - Sedentary, Light, Moderate, High\n",
    "- `goal` (string) - Weight Loss, Muscle Gain, Maintenance\n",
    "- `dietary_preference` (string) - Vegetarian, Vegan, Keto, Paleo, Balanced\n",
    "- `recommended_diet` (string) - The best diet recommendation based on features"
   ]
  },
  {
   "cell_type": "markdown",
   "id": "5ef5ca5b",
   "metadata": {},
   "source": [
    "## 📂 2️⃣ Training the Model\n",
    "We use a **RandomForestClassifier** to train the model with the following steps:\n",
    "- **Load the dataset** from `diet_data.csv`\n",
    "- **Convert categorical variables** using `pd.get_dummies()`\n",
    "- **Split dataset** into training and test sets\n",
    "- **Train the classifier** on training data\n",
    "- **Save the trained model and feature names for prediction**"
   ]
  },
  {
   "cell_type": "markdown",
   "id": "873e6705",
   "metadata": {},
   "source": [
    "## 📂 3️⃣ Prediction Model\n",
    "Once the model is trained, predictions are made by:\n",
    "- **Retrieving the logged-in user's diet data from the database**\n",
    "- **Matching input features with trained model features**\n",
    "- **Using the trained `RandomForestClassifier` to predict the best diet**"
   ]
  },
  {
   "cell_type": "markdown",
   "id": "6b038bb7",
   "metadata": {},
   "source": [
    "## 📂 4️⃣ API Endpoints and Schemas\n",
    "The API is structured using Flask-RESTful and **Marshmallow schemas** for serialization."
   ]
  },
  {
   "cell_type": "markdown",
   "id": "2ba67cf4",
   "metadata": {},
   "source": [
    "## 📂 5️⃣ Flask JWT Extended (Authentication)\n",
    "The API uses **JWT (JSON Web Tokens)** for authentication using `flask_jwt_extended`. Each request requiring authentication must include an **Authorization Header** with a valid token."
   ]
  },
  {
   "cell_type": "markdown",
   "id": "ebb56b84",
   "metadata": {},
   "source": [
    "## 📂 6️⃣ Resources and Endpoints\n",
    "Below are the API endpoints and their corresponding functions."
   ]
  },
  {
   "cell_type": "markdown",
   "id": "3b6d1f53",
   "metadata": {},
   "source": [
    "## 🌐 7️⃣ Routes with cURL Examples"
   ]
  },
  {
   "cell_type": "markdown",
   "id": "b318f866",
   "metadata": {},
   "source": [
    "### **1️⃣ Register a User**"
   ]
  },
  {
   "cell_type": "code",
   "execution_count": null,
   "id": "0b4df050",
   "metadata": {},
   "outputs": [],
   "source": [
    "!curl -X POST https://kollie.pythonanywhere.com/register \\\n",
    "     -H \"Content-Type: application/json\" \\\n",
    "     -d '{\n",
    "           \"first_name\": \"John\",\n",
    "           \"last_name\": \"Doe\",\n",
    "           \"username\": \"johndoe\",\n",
    "           \"password\": \"password123\"\n",
    "         }'"
   ]
  },
  {
   "cell_type": "markdown",
   "id": "cbd14aa7",
   "metadata": {},
   "source": [
    "### **2️⃣ Log In a User**"
   ]
  },
  {
   "cell_type": "code",
   "execution_count": null,
   "id": "6847def6",
   "metadata": {},
   "outputs": [],
   "source": [
    "!curl -X POST https://kollie.pythonanywhere.com/login \\\n",
    "     -H \"Content-Type: application/json\" \\\n",
    "     -d '{\n",
    "           \"username\": \"johndoe\",\n",
    "           \"password\": \"password123\"\n",
    "         }'"
   ]
  },
  {
   "cell_type": "markdown",
   "id": "86501355",
   "metadata": {},
   "source": [
    "### **3️⃣ Save Diet Data**"
   ]
  },
  {
   "cell_type": "code",
   "execution_count": null,
   "id": "d628decc",
   "metadata": {},
   "outputs": [],
   "source": [
    "!curl -X POST https://kollie.pythonanywhere.com/diet \\\n",
    "     -H \"Content-Type: application/json\" \\\n",
    "     -H \"Authorization: Bearer YOUR_ACCESS_TOKEN\" \\\n",
    "     -d '{\n",
    "           \"age\": 30,\n",
    "           \"gender\": \"Male\",\n",
    "           \"height\": 175,\n",
    "           \"weight\": 75,\n",
    "           \"activity_level\": \"Moderate\",\n",
    "           \"goal\": \"Muscle Gain\",\n",
    "           \"dietary_preference\": \"Balanced\"\n",
    "         }'"
   ]
  },
  {
   "cell_type": "markdown",
   "id": "50678bbb",
   "metadata": {},
   "source": [
    "### **4️⃣ Get User Diet Data**"
   ]
  },
  {
   "cell_type": "code",
   "execution_count": null,
   "id": "2a193ea2",
   "metadata": {},
   "outputs": [],
   "source": [
    "!curl -X GET https://kollie.pythonanywhere.com/diet \\\n",
    "     -H \"Authorization: Bearer YOUR_ACCESS_TOKEN\""
   ]
  },
  {
   "cell_type": "markdown",
   "id": "70b41a27",
   "metadata": {},
   "source": [
    "### **5️⃣ Train the Machine Learning Model**"
   ]
  },
  {
   "cell_type": "code",
   "execution_count": null,
   "id": "3aca53f3",
   "metadata": {},
   "outputs": [],
   "source": [
    "!curl -X POST https://kollie.pythonanywhere.com/train_model \\\n",
    "     -H \"Authorization: Bearer YOUR_ACCESS_TOKEN\""
   ]
  },
  {
   "cell_type": "markdown",
   "id": "7caffa15",
   "metadata": {},
   "source": [
    "### **6️⃣ Predict Diet Recommendation**"
   ]
  },
  {
   "cell_type": "code",
   "execution_count": null,
   "id": "1a01d178",
   "metadata": {},
   "outputs": [],
   "source": [
    "!curl -X POST https://kollie.pythonanywhere.com/predict_food \\\n",
    "     -H \"Content-Type: application/json\" \\\n",
    "     -H \"Authorization: Bearer YOUR_ACCESS_TOKEN\""
   ]
  },
  {
   "cell_type": "markdown",
   "id": "2bb3becf",
   "metadata": {},
   "source": [
    "## 🚀 Deployment and Webhook\n",
    "The API is deployed on **PythonAnywhere**, and a **GitHub webhook** ensures automatic updates."
   ]
  },
  {
   "cell_type": "markdown",
   "id": "98c05321",
   "metadata": {},
   "source": [
    "## 🎯 Conclusion\n",
    "This project successfully implements:\n",
    "✅ **User authentication (JWT)**  \n",
    "✅ **Diet data storage & retrieval**  \n",
    "✅ **Machine learning-based diet recommendation**  \n",
    "✅ **GitHub webhook for auto-deployment**  \n",
    "✅ **Manual execution endpoints**  \n",
    "\n",
    "🚀 **System is now fully functional and scalable!** 🚀"
   ]
  }
 ],
 "metadata": {},
 "nbformat": 4,
 "nbformat_minor": 5
}