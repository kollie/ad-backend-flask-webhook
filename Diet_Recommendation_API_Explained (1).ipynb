{
 "cells": [
  {
   "cell_type": "markdown",
   "id": "d9f31d39",
   "metadata": {},
   "source": [
    "# 📌 Diet Recommendation Flask API\n",
    "This project is a **Flask-based API** that allows users to **register, log in, save diet data, train a machine learning model, and get diet recommendations** based on their data.\n",
    "The application is deployed on **PythonAnywhere**, with a **GitHub webhook** for automatic updates and database migrations."
   ]
  },
  {
   "cell_type": "markdown",
   "id": "243eb64b",
   "metadata": {},
   "source": [
    "## 🚀 Project Structure\n",
    "```\n",
    "ad-backend-flask-webhook/\n",
    "│── app/\n",
    "│   ├── resources/\n",
    "│   ├── schemas/\n",
    "│   ├── __init__.py\n",
    "│   ├── models.py\n",
    "│   ├── routes.py\n",
    "│── main.py\n",
    "│── README.md\n",
    "```"
   ]
  },
  {
   "cell_type": "markdown",
   "id": "23deffa0",
   "metadata": {},
   "source": [
    "## 📂 1️⃣ Training Data\n",
    "The training data used for the model consists of **dietary preferences, user attributes, and recommended diets**.\n",
    "### **Dataset Structure (`diet_data.csv`)**:\n",
    "- `age` (int) - User's age\n",
    "- `gender` (string) - Male/Female\n",
    "- `height` (float) - User's height in cm\n",
    "- `weight` (float) - User's weight in kg\n",
    "- `activity_level` (string) - Sedentary, Light, Moderate, High\n",
    "- `goal` (string) - Weight Loss, Muscle Gain, Maintenance\n",
    "- `dietary_preference` (string) - Vegetarian, Vegan, Keto, Paleo, Balanced\n",
    "- `recommended_diet` (string) - The best diet recommendation based on features"
   ]
  },
  {
   "cell_type": "markdown",
   "id": "8cc2b730",
   "metadata": {},
   "source": [
    "## 📂 2️⃣ Training the Model\n",
    "We use a **RandomForestClassifier** to train the model with the following steps:\n",
    "1. **Load the dataset** from `diet_data.csv`\n",
    "2. **Convert categorical variables** using `pd.get_dummies()`\n",
    "3. **Split dataset** into training and test sets\n",
    "4. **Train the classifier** on training data\n",
    "5. **Save the trained model and feature names for prediction**\n",
    "6. **Ensure the model saves `feature names` to prevent mismatched columns during prediction.**"
   ]
  },
  {
   "cell_type": "markdown",
   "id": "a172cdc6",
   "metadata": {},
   "source": [
    "### **Training Script (`train_model.py`)**"
   ]
  },
  {
   "cell_type": "code",
   "execution_count": null,
   "id": "27ac0b60",
   "metadata": {},
   "outputs": [],
   "source": [
    "import pandas as pd\n",
    "from sklearn.model_selection import train_test_split\n",
    "from sklearn.ensemble import RandomForestClassifier\n",
    "import joblib\n",
    "\n",
    "# Load dataset\n",
    "data = pd.read_csv('data/diet_data.csv')\n",
    "X = data[['age', 'gender', 'height', 'weight', 'activity_level', 'goal', 'dietary_preference']]\n",
    "y = data['recommended_diet']\n",
    "\n",
    "# Convert categorical features\n",
    "X = pd.get_dummies(X)\n",
    "\n",
    "# Save feature names\n",
    "joblib.dump(X.columns, 'model_features.pkl')\n",
    "\n",
    "# Split dataset\n",
    "X_train, X_test, y_train, y_test = train_test_split(X, y, test_size=0.2, random_state=42)\n",
    "\n",
    "# Train model\n",
    "model = RandomForestClassifier(n_estimators=100, random_state=42)\n",
    "model.fit(X_train, y_train)\n",
    "\n",
    "# Save model\n",
    "joblib.dump(model, 'diet_model.pkl')"
   ]
  },
  {
   "cell_type": "markdown",
   "id": "8e384bf5",
   "metadata": {},
   "source": [
    "## 📂 3️⃣ Prediction Model\n",
    "Once the model is trained, predictions are made by:\n",
    "1. **Retrieving the logged-in user's diet data from the database**\n",
    "2. **Matching input features with trained model features**\n",
    "3. **Using the trained `RandomForestClassifier` to predict the best diet**"
   ]
  },
  {
   "cell_type": "markdown",
   "id": "9a9e6547",
   "metadata": {},
   "source": [
    "### **Prediction Script (`predict_model.py`)**"
   ]
  },
  {
   "cell_type": "code",
   "execution_count": null,
   "id": "e7c89f0d",
   "metadata": {},
   "outputs": [],
   "source": [
    "import joblib\n",
    "import pandas as pd\n",
    "\n",
    "# Load trained model\n",
    "model = joblib.load('diet_model.pkl')\n",
    "feature_columns = joblib.load('model_features.pkl')\n",
    "\n",
    "# Create new user input\n",
    "user_data = pd.DataFrame([{    'age': 30, 'gender': 'Male', 'height': 175, 'weight': 75,    'activity_level': 'Moderate', 'goal': 'Muscle Gain', 'dietary_preference': 'Balanced'}])\n",
    "user_data = pd.get_dummies(user_data)\n",
    "user_data = user_data.reindex(columns=feature_columns, fill_value=0)\n",
    "\n",
    "# Make prediction\n",
    "prediction = model.predict(user_data)\n",
    "print('Predicted Diet:', prediction[0])"
   ]
  },
  {
   "cell_type": "markdown",
   "id": "572ac82b",
   "metadata": {},
   "source": [
    "## 📂 4️⃣ API Endpoints with cURL Examples"
   ]
  },
  {
   "cell_type": "markdown",
   "id": "4ec0cfde",
   "metadata": {},
   "source": [
    "### **1️⃣ Register a User (`POST /register`)**"
   ]
  },
  {
   "cell_type": "code",
   "execution_count": null,
   "id": "982dc008",
   "metadata": {},
   "outputs": [],
   "source": [
    "!curl -X POST https://kollie.pythonanywhere.com/register \\\n",
    "     -H \"Content-Type: application/json\" \\\n",
    "     -d '{\n",
    "           \"first_name\": \"John\",\n",
    "           \"last_name\": \"Doe\",\n",
    "           \"username\": \"johndoe\",\n",
    "           \"password\": \"password123\"\n",
    "         }'"
   ]
  },
  {
   "cell_type": "markdown",
   "id": "05a4feaf",
   "metadata": {},
   "source": [
    "### **2️⃣ Log In a User (`POST /login`)**"
   ]
  },
  {
   "cell_type": "code",
   "execution_count": null,
   "id": "d74da4c8",
   "metadata": {},
   "outputs": [],
   "source": [
    "!curl -X POST https://kollie.pythonanywhere.com/login \\\n",
    "     -H \"Content-Type: application/json\" \\\n",
    "     -d '{\n",
    "           \"username\": \"johndoe\",\n",
    "           \"password\": \"password123\"\n",
    "         }'"
   ]
  },
  {
   "cell_type": "markdown",
   "id": "05fa6283",
   "metadata": {},
   "source": [
    "### **3️⃣ Save Diet Data (`POST /diet`)**"
   ]
  },
  {
   "cell_type": "code",
   "execution_count": null,
   "id": "5b257eb2",
   "metadata": {},
   "outputs": [],
   "source": [
    "!curl -X POST https://kollie.pythonanywhere.com/diet \\\n",
    "     -H \"Content-Type: application/json\" \\\n",
    "     -H \"Authorization: Bearer YOUR_ACCESS_TOKEN\" \\\n",
    "     -d '{\n",
    "           \"age\": 30,\n",
    "           \"gender\": \"Male\",\n",
    "           \"height\": 175,\n",
    "           \"weight\": 75,\n",
    "           \"activity_level\": \"Moderate\",\n",
    "           \"goal\": \"Muscle Gain\",\n",
    "           \"dietary_preference\": \"Balanced\"\n",
    "         }'"
   ]
  },
  {
   "cell_type": "markdown",
   "id": "80a850aa",
   "metadata": {},
   "source": [
    "### **4️⃣ Train the Machine Learning Model (`POST /train_model`)**"
   ]
  },
  {
   "cell_type": "code",
   "execution_count": null,
   "id": "813d1b19",
   "metadata": {},
   "outputs": [],
   "source": [
    "!curl -X POST https://kollie.pythonanywhere.com/train_model \\\n",
    "     -H \"Authorization: Bearer YOUR_ACCESS_TOKEN\""
   ]
  },
  {
   "cell_type": "markdown",
   "id": "6215445f",
   "metadata": {},
   "source": [
    "### **5️⃣ Predict Diet Recommendation (`POST /predict_food`)**"
   ]
  },
  {
   "cell_type": "code",
   "execution_count": null,
   "id": "161ff358",
   "metadata": {},
   "outputs": [],
   "source": [
    "!curl -X POST https://kollie.pythonanywhere.com/predict_food \\\n",
    "     -H \"Content-Type: application/json\" \\\n",
    "     -H \"Authorization: Bearer YOUR_ACCESS_TOKEN\""
   ]
  },
  {
   "cell_type": "markdown",
   "id": "b7f87d49",
   "metadata": {},
   "source": [
    "## 🎯 Conclusion\n",
    "This project successfully implements:\n",
    "✅ **User authentication (JWT)**  \n",
    "✅ **Diet data storage & retrieval**  \n",
    "✅ **Machine learning-based diet recommendation**  \n",
    "✅ **GitHub webhook for auto-deployment**  \n",
    "✅ **Manual execution endpoints**  \n",
    "\n",
    "🚀 **System is now fully functional and scalable!** 🚀"
   ]
  }
 ],
 "metadata": {},
 "nbformat": 4,
 "nbformat_minor": 5
}